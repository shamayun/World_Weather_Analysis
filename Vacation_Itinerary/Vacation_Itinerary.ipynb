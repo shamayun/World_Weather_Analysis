{
 "cells": [
  {
   "cell_type": "markdown",
   "metadata": {},
   "source": [
    "## Deliverable 3. Create a Travel Itinerary Map."
   ]
  },
  {
   "cell_type": "code",
   "execution_count": 17,
   "metadata": {},
   "outputs": [],
   "source": [
    "# Dependencies and Setup\n",
    "import pandas as pd\n",
    "import requests\n",
    "import gmaps\n",
    "import gmaps.datasets\n",
    "\n",
    "# Import API key\n",
    "from config import g_key\n",
    "\n",
    "# Configure gmaps\n",
    "gmaps.configure(api_key=g_key)"
   ]
  },
  {
   "cell_type": "code",
   "execution_count": 3,
   "metadata": {},
   "outputs": [
    {
     "data": {
      "text/html": [
       "<div>\n",
       "<style scoped>\n",
       "    .dataframe tbody tr th:only-of-type {\n",
       "        vertical-align: middle;\n",
       "    }\n",
       "\n",
       "    .dataframe tbody tr th {\n",
       "        vertical-align: top;\n",
       "    }\n",
       "\n",
       "    .dataframe thead th {\n",
       "        text-align: right;\n",
       "    }\n",
       "</style>\n",
       "<table border=\"1\" class=\"dataframe\">\n",
       "  <thead>\n",
       "    <tr style=\"text-align: right;\">\n",
       "      <th></th>\n",
       "      <th>City_ID</th>\n",
       "      <th>City</th>\n",
       "      <th>Country</th>\n",
       "      <th>Max Temp</th>\n",
       "      <th>Current Description</th>\n",
       "      <th>Lat</th>\n",
       "      <th>Lng</th>\n",
       "      <th>Hotel Name</th>\n",
       "    </tr>\n",
       "  </thead>\n",
       "  <tbody>\n",
       "    <tr>\n",
       "      <th>0</th>\n",
       "      <td>1</td>\n",
       "      <td>Rikitea</td>\n",
       "      <td>PF</td>\n",
       "      <td>80.64</td>\n",
       "      <td>light rain</td>\n",
       "      <td>-23.1203</td>\n",
       "      <td>-134.9692</td>\n",
       "      <td>People ThankYou</td>\n",
       "    </tr>\n",
       "    <tr>\n",
       "      <th>1</th>\n",
       "      <td>6</td>\n",
       "      <td>Hermanus</td>\n",
       "      <td>ZA</td>\n",
       "      <td>70.81</td>\n",
       "      <td>scattered clouds</td>\n",
       "      <td>-34.4187</td>\n",
       "      <td>19.2345</td>\n",
       "      <td>Misty Waves Boutique Hotel</td>\n",
       "    </tr>\n",
       "    <tr>\n",
       "      <th>2</th>\n",
       "      <td>9</td>\n",
       "      <td>Avarua</td>\n",
       "      <td>CK</td>\n",
       "      <td>82.45</td>\n",
       "      <td>scattered clouds</td>\n",
       "      <td>-21.2078</td>\n",
       "      <td>-159.7750</td>\n",
       "      <td>Paradise Inn</td>\n",
       "    </tr>\n",
       "    <tr>\n",
       "      <th>3</th>\n",
       "      <td>10</td>\n",
       "      <td>Sawtell</td>\n",
       "      <td>AU</td>\n",
       "      <td>79.18</td>\n",
       "      <td>broken clouds</td>\n",
       "      <td>-30.3833</td>\n",
       "      <td>153.1000</td>\n",
       "      <td>The Bungalow Sawtell</td>\n",
       "    </tr>\n",
       "    <tr>\n",
       "      <th>4</th>\n",
       "      <td>11</td>\n",
       "      <td>Port Alfred</td>\n",
       "      <td>ZA</td>\n",
       "      <td>70.61</td>\n",
       "      <td>light rain</td>\n",
       "      <td>-33.5906</td>\n",
       "      <td>26.8910</td>\n",
       "      <td>The Halyards Hotel</td>\n",
       "    </tr>\n",
       "    <tr>\n",
       "      <th>...</th>\n",
       "      <td>...</td>\n",
       "      <td>...</td>\n",
       "      <td>...</td>\n",
       "      <td>...</td>\n",
       "      <td>...</td>\n",
       "      <td>...</td>\n",
       "      <td>...</td>\n",
       "      <td>...</td>\n",
       "    </tr>\n",
       "    <tr>\n",
       "      <th>238</th>\n",
       "      <td>677</td>\n",
       "      <td>Digha</td>\n",
       "      <td>IN</td>\n",
       "      <td>84.52</td>\n",
       "      <td>broken clouds</td>\n",
       "      <td>21.6833</td>\n",
       "      <td>87.5500</td>\n",
       "      <td>Khoniker Atithi</td>\n",
       "    </tr>\n",
       "    <tr>\n",
       "      <th>239</th>\n",
       "      <td>692</td>\n",
       "      <td>Saint-Joseph</td>\n",
       "      <td>RE</td>\n",
       "      <td>76.10</td>\n",
       "      <td>light rain</td>\n",
       "      <td>-21.3667</td>\n",
       "      <td>55.6167</td>\n",
       "      <td>\"Plantation Bed and Breakfast</td>\n",
       "    </tr>\n",
       "    <tr>\n",
       "      <th>240</th>\n",
       "      <td>694</td>\n",
       "      <td>Elizabeth City</td>\n",
       "      <td>US</td>\n",
       "      <td>71.62</td>\n",
       "      <td>clear sky</td>\n",
       "      <td>36.2946</td>\n",
       "      <td>-76.2511</td>\n",
       "      <td>Hampton Inn Elizabeth City</td>\n",
       "    </tr>\n",
       "    <tr>\n",
       "      <th>241</th>\n",
       "      <td>697</td>\n",
       "      <td>Barra Patuca</td>\n",
       "      <td>HN</td>\n",
       "      <td>78.76</td>\n",
       "      <td>overcast clouds</td>\n",
       "      <td>15.8000</td>\n",
       "      <td>-84.2833</td>\n",
       "      <td>NaN</td>\n",
       "    </tr>\n",
       "    <tr>\n",
       "      <th>242</th>\n",
       "      <td>698</td>\n",
       "      <td>Mitsamiouli</td>\n",
       "      <td>KM</td>\n",
       "      <td>80.89</td>\n",
       "      <td>light rain</td>\n",
       "      <td>-11.3847</td>\n",
       "      <td>43.2844</td>\n",
       "      <td>Foyer ADM</td>\n",
       "    </tr>\n",
       "  </tbody>\n",
       "</table>\n",
       "<p>243 rows × 8 columns</p>\n",
       "</div>"
      ],
      "text/plain": [
       "     City_ID            City Country  Max Temp Current Description      Lat  \\\n",
       "0          1         Rikitea      PF     80.64          light rain -23.1203   \n",
       "1          6        Hermanus      ZA     70.81    scattered clouds -34.4187   \n",
       "2          9          Avarua      CK     82.45    scattered clouds -21.2078   \n",
       "3         10         Sawtell      AU     79.18       broken clouds -30.3833   \n",
       "4         11     Port Alfred      ZA     70.61          light rain -33.5906   \n",
       "..       ...             ...     ...       ...                 ...      ...   \n",
       "238      677           Digha      IN     84.52       broken clouds  21.6833   \n",
       "239      692    Saint-Joseph      RE     76.10          light rain -21.3667   \n",
       "240      694  Elizabeth City      US     71.62           clear sky  36.2946   \n",
       "241      697    Barra Patuca      HN     78.76     overcast clouds  15.8000   \n",
       "242      698     Mitsamiouli      KM     80.89          light rain -11.3847   \n",
       "\n",
       "          Lng                     Hotel Name  \n",
       "0   -134.9692                People ThankYou  \n",
       "1     19.2345     Misty Waves Boutique Hotel  \n",
       "2   -159.7750                   Paradise Inn  \n",
       "3    153.1000           The Bungalow Sawtell  \n",
       "4     26.8910             The Halyards Hotel  \n",
       "..        ...                            ...  \n",
       "238   87.5500                Khoniker Atithi  \n",
       "239   55.6167  \"Plantation Bed and Breakfast  \n",
       "240  -76.2511     Hampton Inn Elizabeth City  \n",
       "241  -84.2833                            NaN  \n",
       "242   43.2844                      Foyer ADM  \n",
       "\n",
       "[243 rows x 8 columns]"
      ]
     },
     "execution_count": 3,
     "metadata": {},
     "output_type": "execute_result"
    }
   ],
   "source": [
    "# 1. Read the WeatherPy_vacation.csv into a DataFrame.\n",
    "vacation_df = pd.read_csv(\"vacation_search/WeatherPy_vacation.csv\")\n",
    "vacation_df"
   ]
  },
  {
   "cell_type": "code",
   "execution_count": 56,
   "metadata": {},
   "outputs": [],
   "source": [
    "# 2. Using the template add the city name, the country code, the weather description and maximum temperature for the city.\n",
    "info_box_template = \"\"\"\n",
    "<dl>\n",
    "<dt><b>Hotel Name</b></dt><dd>{Hotel Name}</dd>\n",
    "<dt><b>City</b></dt><dd>{City}</dd>\n",
    "<dt><b>Country</b></dt><dd>{Country}</dd>\n",
    "<dt><b>Current Weather</b></dt><dd>{Current Description} and {Max Temp} °F</dd>\n",
    "</dl>\n",
    "\"\"\"\n",
    "\n",
    "# 3a. Get the data from each row and add it to the formatting template and store the data in a list.\n",
    "hotel_info = [info_box_template.format(**row) for index, row in vacation_df.iterrows()]\n",
    "\n",
    "# 3b. Get the latitude and longitude from each row and store in a new DataFrame.\n",
    "locations = vacation_df[[\"Lat\", \"Lng\"]]"
   ]
  },
  {
   "cell_type": "code",
   "execution_count": 57,
   "metadata": {},
   "outputs": [
    {
     "data": {
      "application/vnd.jupyter.widget-view+json": {
       "model_id": "aad4e04ebf2f4760884e7cc8602ea4cd",
       "version_major": 2,
       "version_minor": 0
      },
      "text/plain": [
       "Figure(layout=FigureLayout(height='420px'))"
      ]
     },
     "metadata": {},
     "output_type": "display_data"
    }
   ],
   "source": [
    "# 4a. Add a marker layer for each city to the map.\n",
    "fig = gmaps.figure(center=(30.0, 31.0), zoom_level=1.5)\n",
    "marker_layer = gmaps.marker_layer(locations, info_box_content=hotel_info)\n",
    "# 4b. Display the figure\n",
    "fig.add_layer(marker_layer)\n",
    "fig\n"
   ]
  },
  {
   "cell_type": "code",
   "execution_count": 6,
   "metadata": {},
   "outputs": [],
   "source": [
    "# From the map above pick 4 cities and create a vacation itinerary route to travel between the four cities. \n",
    "# 5. Create DataFrames for each city by filtering the 'vacation_df' using the loc method. \n",
    "# Hint: The starting and ending city should be the same city.\n",
    "\n",
    "vacation_start = vacation_df.loc[vacation_df['City'] == \"Jacksonville Beach\"]\n",
    "vacation_end = vacation_df.loc[vacation_df['City'] == \"Jacksonville Beach\"]\n",
    "vacation_stop1 = vacation_df.loc[vacation_df['City'] == \"Elizabeth City\"]\n",
    "vacation_stop2 = vacation_df.loc[vacation_df['City'] == \"Cabo San Lucas\"]\n",
    "vacation_stop3 = vacation_df.loc[vacation_df['City'] == \"Ixtapa\"]"
   ]
  },
  {
   "cell_type": "code",
   "execution_count": 58,
   "metadata": {},
   "outputs": [
    {
     "data": {
      "text/plain": [
       "(30.2947, -81.3931)"
      ]
     },
     "execution_count": 58,
     "metadata": {},
     "output_type": "execute_result"
    }
   ],
   "source": [
    "\n",
    "tuple(vacation_start[[\"Lat\", \"Lng\"]].to_numpy()[0])"
   ]
  },
  {
   "cell_type": "code",
   "execution_count": 59,
   "metadata": {},
   "outputs": [],
   "source": [
    "# 6. Get the latitude-longitude pairs as tuples from each city DataFrame using the to_numpy function and list indexing.\n",
    "start = tuple(vacation_start[[\"Lat\", \"Lng\"]].to_numpy()[0])\n",
    "end = tuple(vacation_end[[\"Lat\", \"Lng\"]].to_numpy()[0])\n",
    "stop1 = tuple(vacation_stop1[[\"Lat\", \"Lng\"]].to_numpy()[0])\n",
    "\n",
    "stop2 = tuple(vacation_stop2[[\"Lat\", \"Lng\"]].to_numpy()[0])\n",
    "\n",
    "\n",
    "stop3 = tuple(vacation_stop3[[\"Lat\", \"Lng\"]].to_numpy()[0])\n"
   ]
  },
  {
   "cell_type": "code",
   "execution_count": 60,
   "metadata": {
    "scrolled": true
   },
   "outputs": [
    {
     "data": {
      "application/vnd.jupyter.widget-view+json": {
       "model_id": "f0f9735224744cb3824875ba336f3392",
       "version_major": 2,
       "version_minor": 0
      },
      "text/plain": [
       "Figure(layout=FigureLayout(height='420px'))"
      ]
     },
     "metadata": {},
     "output_type": "display_data"
    }
   ],
   "source": [
    "# 7. Create a direction layer map using the start and end latitude-longitude pairs,\n",
    "# and stop1, stop2, and stop3 as the waypoints. The travel_mode should be \"DRIVING\", \"BICYCLING\", or \"WALKING\".\n",
    "\n",
    "\n",
    "fig = gmaps.figure()\n",
    "start_to_end = gmaps.directions_layer(start, end, waypoints= [stop1, stop2, stop3], travel_mode='DRIVING')\n",
    "fig.add_layer(start_to_end)\n",
    "fig\n",
    "\n"
   ]
  },
  {
   "cell_type": "code",
   "execution_count": 23,
   "metadata": {},
   "outputs": [
    {
     "data": {
      "text/html": [
       "<div>\n",
       "<style scoped>\n",
       "    .dataframe tbody tr th:only-of-type {\n",
       "        vertical-align: middle;\n",
       "    }\n",
       "\n",
       "    .dataframe tbody tr th {\n",
       "        vertical-align: top;\n",
       "    }\n",
       "\n",
       "    .dataframe thead th {\n",
       "        text-align: right;\n",
       "    }\n",
       "</style>\n",
       "<table border=\"1\" class=\"dataframe\">\n",
       "  <thead>\n",
       "    <tr style=\"text-align: right;\">\n",
       "      <th></th>\n",
       "      <th>City_ID</th>\n",
       "      <th>City</th>\n",
       "      <th>Country</th>\n",
       "      <th>Max Temp</th>\n",
       "      <th>Current Description</th>\n",
       "      <th>Lat</th>\n",
       "      <th>Lng</th>\n",
       "      <th>Hotel Name</th>\n",
       "    </tr>\n",
       "  </thead>\n",
       "  <tbody>\n",
       "    <tr>\n",
       "      <th>0</th>\n",
       "      <td>472</td>\n",
       "      <td>Jacksonville Beach</td>\n",
       "      <td>US</td>\n",
       "      <td>72.07</td>\n",
       "      <td>thunderstorm</td>\n",
       "      <td>30.2947</td>\n",
       "      <td>-81.3931</td>\n",
       "      <td>Courtyard by Marriott Jacksonville Beach Ocean...</td>\n",
       "    </tr>\n",
       "    <tr>\n",
       "      <th>1</th>\n",
       "      <td>694</td>\n",
       "      <td>Elizabeth City</td>\n",
       "      <td>US</td>\n",
       "      <td>71.62</td>\n",
       "      <td>clear sky</td>\n",
       "      <td>36.2946</td>\n",
       "      <td>-76.2511</td>\n",
       "      <td>Hampton Inn Elizabeth City</td>\n",
       "    </tr>\n",
       "    <tr>\n",
       "      <th>2</th>\n",
       "      <td>221</td>\n",
       "      <td>Cabo San Lucas</td>\n",
       "      <td>MX</td>\n",
       "      <td>74.52</td>\n",
       "      <td>broken clouds</td>\n",
       "      <td>22.8909</td>\n",
       "      <td>-109.9124</td>\n",
       "      <td>Hotel Tesoro Los Cabos</td>\n",
       "    </tr>\n",
       "    <tr>\n",
       "      <th>3</th>\n",
       "      <td>509</td>\n",
       "      <td>Ixtapa</td>\n",
       "      <td>MX</td>\n",
       "      <td>70.23</td>\n",
       "      <td>overcast clouds</td>\n",
       "      <td>20.7000</td>\n",
       "      <td>-105.2000</td>\n",
       "      <td>hotel la terminal</td>\n",
       "    </tr>\n",
       "    <tr>\n",
       "      <th>4</th>\n",
       "      <td>472</td>\n",
       "      <td>Jacksonville Beach</td>\n",
       "      <td>US</td>\n",
       "      <td>72.07</td>\n",
       "      <td>thunderstorm</td>\n",
       "      <td>30.2947</td>\n",
       "      <td>-81.3931</td>\n",
       "      <td>Courtyard by Marriott Jacksonville Beach Ocean...</td>\n",
       "    </tr>\n",
       "  </tbody>\n",
       "</table>\n",
       "</div>"
      ],
      "text/plain": [
       "   City_ID                City Country  Max Temp Current Description      Lat  \\\n",
       "0      472  Jacksonville Beach      US     72.07        thunderstorm  30.2947   \n",
       "1      694      Elizabeth City      US     71.62           clear sky  36.2946   \n",
       "2      221      Cabo San Lucas      MX     74.52       broken clouds  22.8909   \n",
       "3      509              Ixtapa      MX     70.23     overcast clouds  20.7000   \n",
       "4      472  Jacksonville Beach      US     72.07        thunderstorm  30.2947   \n",
       "\n",
       "        Lng                                         Hotel Name  \n",
       "0  -81.3931  Courtyard by Marriott Jacksonville Beach Ocean...  \n",
       "1  -76.2511                         Hampton Inn Elizabeth City  \n",
       "2 -109.9124                             Hotel Tesoro Los Cabos  \n",
       "3 -105.2000                                  hotel la terminal  \n",
       "4  -81.3931  Courtyard by Marriott Jacksonville Beach Ocean...  "
      ]
     },
     "execution_count": 23,
     "metadata": {},
     "output_type": "execute_result"
    }
   ],
   "source": [
    "# 8. To create a marker layer map between the four cities.\n",
    "#  Combine the four city DataFrames into one DataFrame using the concat() function.\n",
    "itinerary_df = pd.concat([vacation_start,vacation_stop1, vacation_stop2, vacation_stop3, vacation_end], ignore_index=True)\n",
    "itinerary_df"
   ]
  },
  {
   "cell_type": "code",
   "execution_count": 61,
   "metadata": {},
   "outputs": [],
   "source": [
    "# 9 Using the template add city name, the country code, the weather description and maximum temperature for the city. \n",
    "info_box_template = \"\"\"\n",
    "<dl>\n",
    "<dt><b>Hotel Name</b></dt><dd>{Hotel Name}</dd>\n",
    "<dt><b>City</b></dt><dd>{City}</dd>\n",
    "<dt><b>Country</b></dt><dd>{Country}</dd>\n",
    "\n",
    "<dt><b>Current Wather</b></dt><dd>{Current Description} and {Max Temp} °F</dd>\n",
    "</dl>\n",
    "\"\"\"\n",
    "\n",
    "# 10a Get the data from each row and add it to the formatting template and store the data in a list.\n",
    "hotel_info = [info_box_template.format(**row) for index, row in itinerary_df.iterrows()]\n",
    "\n",
    "# 10b. Get the latitude and longitude from each row and store in a new DataFrame.\n",
    "locations = itinerary_df[[\"Lat\", \"Lng\"]]"
   ]
  },
  {
   "cell_type": "code",
   "execution_count": 62,
   "metadata": {},
   "outputs": [
    {
     "data": {
      "text/plain": [
       "['\\n<dl>\\n<dt><b>Hotel Name</b></dt><dd>Courtyard by Marriott Jacksonville Beach Oceanfront</dd>\\n<dt><b>City</b></dt><dd>Jacksonville Beach</dd>\\n<dt><b>Country</b></dt><dd>US</dd>\\n\\n<dt><b>Current Wather</b></dt><dd>thunderstorm and 72.07 °F</dd>\\n</dl>\\n',\n",
       " '\\n<dl>\\n<dt><b>Hotel Name</b></dt><dd>Hampton Inn Elizabeth City</dd>\\n<dt><b>City</b></dt><dd>Elizabeth City</dd>\\n<dt><b>Country</b></dt><dd>US</dd>\\n\\n<dt><b>Current Wather</b></dt><dd>clear sky and 71.62 °F</dd>\\n</dl>\\n',\n",
       " '\\n<dl>\\n<dt><b>Hotel Name</b></dt><dd>Hotel Tesoro Los Cabos</dd>\\n<dt><b>City</b></dt><dd>Cabo San Lucas</dd>\\n<dt><b>Country</b></dt><dd>MX</dd>\\n\\n<dt><b>Current Wather</b></dt><dd>broken clouds and 74.52 °F</dd>\\n</dl>\\n',\n",
       " '\\n<dl>\\n<dt><b>Hotel Name</b></dt><dd>hotel la terminal</dd>\\n<dt><b>City</b></dt><dd>Ixtapa</dd>\\n<dt><b>Country</b></dt><dd>MX</dd>\\n\\n<dt><b>Current Wather</b></dt><dd>overcast clouds and 70.23 °F</dd>\\n</dl>\\n',\n",
       " '\\n<dl>\\n<dt><b>Hotel Name</b></dt><dd>Courtyard by Marriott Jacksonville Beach Oceanfront</dd>\\n<dt><b>City</b></dt><dd>Jacksonville Beach</dd>\\n<dt><b>Country</b></dt><dd>US</dd>\\n\\n<dt><b>Current Wather</b></dt><dd>thunderstorm and 72.07 °F</dd>\\n</dl>\\n']"
      ]
     },
     "execution_count": 62,
     "metadata": {},
     "output_type": "execute_result"
    }
   ],
   "source": [
    "hotel_info\n"
   ]
  },
  {
   "cell_type": "code",
   "execution_count": 63,
   "metadata": {},
   "outputs": [
    {
     "data": {
      "application/vnd.jupyter.widget-view+json": {
       "model_id": "ad28b9d1c9d84861b53cb34e538e6f9e",
       "version_major": 2,
       "version_minor": 0
      },
      "text/plain": [
       "Figure(layout=FigureLayout(height='420px'))"
      ]
     },
     "metadata": {},
     "output_type": "display_data"
    }
   ],
   "source": [
    "fig = gmaps.figure(center=(30.0, 31.0), zoom_level=3.5)\n",
    "# 11a. Add a marker layer for each city to the map.\n",
    "marker_layer = gmaps.marker_layer(locations, info_box_content=hotel_info)\n",
    "# 11b. Display the figure\n",
    "fig.add_layer(marker_layer)\n",
    "fig"
   ]
  },
  {
   "cell_type": "code",
   "execution_count": 31,
   "metadata": {},
   "outputs": [
    {
     "data": {
      "application/vnd.jupyter.widget-view+json": {
       "model_id": "d353138c0e2441a78723936f8504e177",
       "version_major": 2,
       "version_minor": 0
      },
      "text/plain": [
       "Figure(layout=FigureLayout(height='420px'))"
      ]
     },
     "metadata": {},
     "output_type": "display_data"
    }
   ],
   "source": [
    "fig = gmaps.figure(center=(30.0, 31.0), zoom_level=1.5)\n",
    "marker_layer = gmaps.marker_layer(locations, info_box_content=hotel_info)\n",
    "# 11b. Display the figure\n",
    "fig.add_layer(marker_layer)\n",
    "fig"
   ]
  }
 ],
 "metadata": {
  "kernelspec": {
   "display_name": "PythonData",
   "language": "python",
   "name": "pythondata"
  },
  "language_info": {
   "codemirror_mode": {
    "name": "ipython",
    "version": 3
   },
   "file_extension": ".py",
   "mimetype": "text/x-python",
   "name": "python",
   "nbconvert_exporter": "python",
   "pygments_lexer": "ipython3",
   "version": "3.7.11"
  },
  "latex_envs": {
   "LaTeX_envs_menu_present": true,
   "autoclose": false,
   "autocomplete": true,
   "bibliofile": "biblio.bib",
   "cite_by": "apalike",
   "current_citInitial": 1,
   "eqLabelWithNumbers": true,
   "eqNumInitial": 1,
   "hotkeys": {
    "equation": "Ctrl-E",
    "itemize": "Ctrl-I"
   },
   "labels_anchors": false,
   "latex_user_defs": false,
   "report_style_numbering": false,
   "user_envs_cfg": false
  }
 },
 "nbformat": 4,
 "nbformat_minor": 2
}
